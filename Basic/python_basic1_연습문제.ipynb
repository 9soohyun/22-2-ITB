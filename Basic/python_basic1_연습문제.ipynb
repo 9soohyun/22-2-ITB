{
  "nbformat": 4,
  "nbformat_minor": 0,
  "metadata": {
    "kernelspec": {
      "display_name": "Python 3",
      "language": "python",
      "name": "python3"
    },
    "language_info": {
      "codemirror_mode": {
        "name": "ipython",
        "version": 3
      },
      "file_extension": ".py",
      "mimetype": "text/x-python",
      "name": "python",
      "nbconvert_exporter": "python",
      "pygments_lexer": "ipython3",
      "version": "3.8.5"
    },
    "colab": {
      "provenance": [],
      "collapsed_sections": [],
      "toc_visible": true
    }
  },
  "cells": [
    {
      "cell_type": "markdown",
      "source": [
        "## 연습문제"
      ],
      "metadata": {
        "id": "P3eiJ3vXg7OO"
      }
    },
    {
      "cell_type": "markdown",
      "source": [
        "### **연습1:특정 위치 출력**\n",
        "나라온의 주민등록번호는 910906-201321이다. 년월일(YYYYMMDD) 부분과 그 뒤의 숫자 부분으로 나누어 출력해 보자."
      ],
      "metadata": {
        "id": "kgkQMOXMvMpo"
      }
    },
    {
      "cell_type": "code",
      "source": [
        "# 연습: 특정 위치 출력\n",
        "pin = \"910906-201321\"\n",
        "\n",
        "birth = pin[:6]\n",
        "num = pin[-6:]\n",
        "print(birth,',' ,num)"
      ],
      "metadata": {
        "id": "yk6TIKKovNAq",
        "colab": {
          "base_uri": "https://localhost:8080/"
        },
        "outputId": "a6800e01-78dd-42c2-df60-716571cf325d"
      },
      "execution_count": null,
      "outputs": [
        {
          "output_type": "stream",
          "name": "stdout",
          "text": [
            "910906 , 201321\n"
          ]
        }
      ]
    },
    {
      "cell_type": "markdown",
      "source": [
        "### **연습2: 출력 결과**\n",
        "다음 중 출력 결과가 다른 것 한 개를 골라 보자.  \n",
        "1) print(\"we\" \"are\" \"happy\")  \n",
        "2) print(\"we\", \"are\", \"happy\")  \n",
        "3) print(\"we\"+\"are\"+\"happy\")  \n",
        "4) print(\"\".join([\"we\", \"are\", \"happy\"]))  "
      ],
      "metadata": {
        "id": "gQgvGpREvqY6"
      }
    },
    {
      "cell_type": "code",
      "source": [
        "# 연습: 출력 결과\n",
        "print('Same answer - 1,3,4')\n",
        "print(\"we\" \"are\" \"happy\")\n",
        "print(\"we\"+\"are\"+\"happy\")\n",
        "print(\"\".join([\"we\", \"are\", \"happy\"]))\n",
        "print('----------------------')\n",
        "print('Different answer - 2')\n",
        "print(\"we\", \"are\", \"happy\")"
      ],
      "metadata": {
        "id": "dqOQqvFjv6mV",
        "colab": {
          "base_uri": "https://localhost:8080/"
        },
        "outputId": "fca75a51-8851-4415-92d3-acbb4b41b754"
      },
      "execution_count": null,
      "outputs": [
        {
          "output_type": "stream",
          "name": "stdout",
          "text": [
            "Same answer - 1,3,4\n",
            "wearehappy\n",
            "wearehappy\n",
            "wearehappy\n",
            "----------------------\n",
            "Different answer - 2\n",
            "we are happy\n"
          ]
        }
      ]
    },
    {
      "cell_type": "markdown",
      "source": [
        "### **연습3: 문장 출력** \n",
        "다음 두 문장을 모든 부호(큰따옴표, 작은 따옴표)를 포함해서 하나의 print 문으로 출력해 보시오. (Hint: 삼중 따옴표 이용)\n",
        "\n",
        "\"She's gone! Yon' Heathcliff's run off wi' her!\" gasped the girl.  \n",
        "\"That is not true!\" exclaimed Linton, rising in agitation.\n"
      ],
      "metadata": {
        "id": "HrlBCE0GuQcQ"
      }
    },
    {
      "cell_type": "code",
      "source": [
        "# 연습: 문장 출력\n",
        "sentence = '''\n",
        "\"She's gone! Yon' Heathcliff's run off wi' her!\" gasped the girl.\n",
        "\"That is not true!\" exclaimed Linton, rising in agitation.\n",
        "'''\n",
        "\n",
        "print(sentence)"
      ],
      "metadata": {
        "id": "POWIotSLuaTG",
        "colab": {
          "base_uri": "https://localhost:8080/"
        },
        "outputId": "fb3a4148-78f6-4582-c960-dfc0e0755ee8"
      },
      "execution_count": null,
      "outputs": [
        {
          "output_type": "stream",
          "name": "stdout",
          "text": [
            "\n",
            "\"She's gone! Yon' Heathcliff's run off wi' her!\" gasped the girl.\n",
            "\"That is not true!\" exclaimed Linton, rising in agitation.\n",
            "\n"
          ]
        }
      ]
    },
    {
      "cell_type": "markdown",
      "source": [
        "### **연습4: 가격 계산**  \n",
        "SM Restaurant에서 주문한 메뉴의 가격은 $31.45 이지만 가격의 8.6%에 해당되는 판매세를 추가해야 한다. 여기에 총 가격의 15%에 해당되는 팁까지 포함할 경우 지불해야 하는\n",
        "총 가격은 얼마인지 소수점 둘째자리까지 보여주시오. (계산 과정을 변수를 사용해서 보여주시오.)"
      ],
      "metadata": {
        "id": "BGIYrYghwpFw"
      }
    },
    {
      "cell_type": "code",
      "source": [
        "# 연습: 가격 계산 \n",
        "\n",
        "meal = 31.45\n",
        "tax_rate = 0.086\n",
        "tip_rate = 0.15\n",
        "\n",
        "price = meal+ meal*tax_rate\n",
        "price_sum = price + price*tip_rate\n",
        "print(\"총 가격 = {0:.3f}\".format(price_sum))"
      ],
      "metadata": {
        "id": "ieFPWxfcwqKS",
        "colab": {
          "base_uri": "https://localhost:8080/"
        },
        "outputId": "37cd8947-e112-4407-ebf4-07f006ad28e2"
      },
      "execution_count": null,
      "outputs": [
        {
          "output_type": "stream",
          "name": "stdout",
          "text": [
            "총 가격 = 39.278\n"
          ]
        }
      ]
    },
    {
      "cell_type": "markdown",
      "metadata": {
        "id": "K5scCFw1lcQS"
      },
      "source": [
        "### **연습5: 구구단 만들기**  \n",
        "for 문을 이용하여 다음과 같이 구구단 결과가 나오도록 만들시오.   \n",
        "   1 x 1 = 1  \n",
        "   1 x 2 = 2  \n",
        "   1 x 3 = 3  \n",
        "   :\n",
        "\n",
        "   9 x 9 = 81  \n"
      ]
    },
    {
      "cell_type": "code",
      "metadata": {
        "id": "P6qzRlsmlb8i",
        "colab": {
          "base_uri": "https://localhost:8080/"
        },
        "outputId": "7c575207-fc20-42ba-fecf-e4d966743b8e"
      },
      "source": [
        "# 연습: 구구단 만들기\n",
        "\n",
        "for i in range(1,10):\n",
        "  for j in range(1,10):\n",
        "    print(i ,'X',j, '=' , i*j)"
      ],
      "execution_count": null,
      "outputs": [
        {
          "output_type": "stream",
          "name": "stdout",
          "text": [
            "1 X 1 = 1\n",
            "1 X 2 = 2\n",
            "1 X 3 = 3\n",
            "1 X 4 = 4\n",
            "1 X 5 = 5\n",
            "1 X 6 = 6\n",
            "1 X 7 = 7\n",
            "1 X 8 = 8\n",
            "1 X 9 = 9\n",
            "2 X 1 = 2\n",
            "2 X 2 = 4\n",
            "2 X 3 = 6\n",
            "2 X 4 = 8\n",
            "2 X 5 = 10\n",
            "2 X 6 = 12\n",
            "2 X 7 = 14\n",
            "2 X 8 = 16\n",
            "2 X 9 = 18\n",
            "3 X 1 = 3\n",
            "3 X 2 = 6\n",
            "3 X 3 = 9\n",
            "3 X 4 = 12\n",
            "3 X 5 = 15\n",
            "3 X 6 = 18\n",
            "3 X 7 = 21\n",
            "3 X 8 = 24\n",
            "3 X 9 = 27\n",
            "4 X 1 = 4\n",
            "4 X 2 = 8\n",
            "4 X 3 = 12\n",
            "4 X 4 = 16\n",
            "4 X 5 = 20\n",
            "4 X 6 = 24\n",
            "4 X 7 = 28\n",
            "4 X 8 = 32\n",
            "4 X 9 = 36\n",
            "5 X 1 = 5\n",
            "5 X 2 = 10\n",
            "5 X 3 = 15\n",
            "5 X 4 = 20\n",
            "5 X 5 = 25\n",
            "5 X 6 = 30\n",
            "5 X 7 = 35\n",
            "5 X 8 = 40\n",
            "5 X 9 = 45\n",
            "6 X 1 = 6\n",
            "6 X 2 = 12\n",
            "6 X 3 = 18\n",
            "6 X 4 = 24\n",
            "6 X 5 = 30\n",
            "6 X 6 = 36\n",
            "6 X 7 = 42\n",
            "6 X 8 = 48\n",
            "6 X 9 = 54\n",
            "7 X 1 = 7\n",
            "7 X 2 = 14\n",
            "7 X 3 = 21\n",
            "7 X 4 = 28\n",
            "7 X 5 = 35\n",
            "7 X 6 = 42\n",
            "7 X 7 = 49\n",
            "7 X 8 = 56\n",
            "7 X 9 = 63\n",
            "8 X 1 = 8\n",
            "8 X 2 = 16\n",
            "8 X 3 = 24\n",
            "8 X 4 = 32\n",
            "8 X 5 = 40\n",
            "8 X 6 = 48\n",
            "8 X 7 = 56\n",
            "8 X 8 = 64\n",
            "8 X 9 = 72\n",
            "9 X 1 = 9\n",
            "9 X 2 = 18\n",
            "9 X 3 = 27\n",
            "9 X 4 = 36\n",
            "9 X 5 = 45\n",
            "9 X 6 = 54\n",
            "9 X 7 = 63\n",
            "9 X 8 = 72\n",
            "9 X 9 = 81\n"
          ]
        }
      ]
    },
    {
      "cell_type": "markdown",
      "source": [
        "### **연습6: 평균 구하기**  \n",
        "01분반 5명의 학생들의 중간고사 점수는 다음과 같다. sum, len 함수를 이용해서 평균 점수를 구해 보자.  \n",
        "\n",
        "score = [80, 60, 70, 50, 90]  \n"
      ],
      "metadata": {
        "id": "dkkyJrP4gwdb"
      }
    },
    {
      "cell_type": "code",
      "source": [
        "# 연습: 평균 구하기 \n",
        "score = [80, 60, 70, 50, 90] \n",
        "\n",
        "mean = sum(score)/len(score)\n",
        "mean"
      ],
      "metadata": {
        "id": "0321sp0YgOG8",
        "colab": {
          "base_uri": "https://localhost:8080/"
        },
        "outputId": "30e7ee08-3c78-44c6-b1c4-f1a4e5aea24c"
      },
      "execution_count": null,
      "outputs": [
        {
          "output_type": "execute_result",
          "data": {
            "text/plain": [
              "70.0"
            ]
          },
          "metadata": {},
          "execution_count": 6
        }
      ]
    },
    {
      "cell_type": "markdown",
      "source": [
        "### **연습7: join 함수**  \n",
        "다음 리스트를 join 함수를 이용하여 We are happy 문자열로 만들어 출력해 보자.\n",
        "\n",
        "mylist = ['We', 'are', 'happy']"
      ],
      "metadata": {
        "id": "v3dW8tnMwJ6K"
      }
    },
    {
      "cell_type": "code",
      "source": [
        "# 연습: join 함수   \n",
        "\n",
        "mylist = ['We', 'are', 'happy']\n",
        "\n",
        "sentence_7 = \" \".join(mylist)\n",
        "print(sentence_7)"
      ],
      "metadata": {
        "id": "aTkhypSywKlQ",
        "colab": {
          "base_uri": "https://localhost:8080/"
        },
        "outputId": "ed3a0cf7-6158-4e49-c08c-7bb2f08671b4"
      },
      "execution_count": null,
      "outputs": [
        {
          "output_type": "stream",
          "name": "stdout",
          "text": [
            "We are happy\n"
          ]
        }
      ]
    },
    {
      "cell_type": "markdown",
      "source": [
        "### **심화 연습: for, if문**\n",
        "\n",
        "다음 문자열에서 모음 [ ‘a’, ‘e’, ‘i’, ‘o’, ‘u’ ] 이 몇 번 나오는지 출력하시오. (Hint: for, if 문 이용)\n",
        "\n",
        "tx = 'Perfection requires the hand of time'"
      ],
      "metadata": {
        "id": "XeBQ4r1poyMj"
      }
    },
    {
      "cell_type": "code",
      "source": [
        "from re import X\n",
        "# 추가 연습: for, if문\n",
        "  \n",
        "tx = 'Perfection requires the hand of time'\n",
        "tx_list=list(tx)\n",
        "a_num = 0\n",
        "e_num = 0\n",
        "i_num = 0\n",
        "o_num = 0\n",
        "u_num = 0\n",
        "for x in tx_list:\n",
        "  if x == 'a':\n",
        "    a_num += 1\n",
        "  if x == 'e':\n",
        "    e_num += 1\n",
        "  if x == 'i':\n",
        "    i_num += 1\n",
        "  if x == 'o':\n",
        "    o_num += 1\n",
        "  if x == 'u':\n",
        "    u_num += 1\n",
        "\n",
        "print('a = ', a_num, '개')\n",
        "print('e = ', e_num, '개')\n",
        "print('i = ', i_num, '개')\n",
        "print('o = ', o_num, '개')\n",
        "print('u = ', u_num, '개')"
      ],
      "metadata": {
        "id": "NxkGsr0vqWNr",
        "colab": {
          "base_uri": "https://localhost:8080/"
        },
        "outputId": "895bdbb5-abc9-40e8-edbd-5c76a3c81f3d"
      },
      "execution_count": null,
      "outputs": [
        {
          "output_type": "stream",
          "name": "stdout",
          "text": [
            "a =  1 개\n",
            "e =  6 개\n",
            "i =  3 개\n",
            "o =  2 개\n",
            "u =  1 개\n"
          ]
        }
      ]
    }
  ]
}
